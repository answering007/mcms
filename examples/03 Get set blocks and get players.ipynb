{
 "cells": [
  {
   "cell_type": "code",
   "execution_count": null,
   "metadata": {},
   "outputs": [],
   "source": [
    "# Import section\n",
    "from dataclasses import asdict\n",
    "\n",
    "from mcms.connection import Connection\n",
    "from mcms.data import Block, Enchantment, ItemStack, Location"
   ]
  },
  {
   "cell_type": "code",
   "execution_count": null,
   "metadata": {},
   "outputs": [],
   "source": [
    "# Setup connection\n",
    "connection = Connection(\"localhost\", 8000, (\"Admin\", \"123\"))"
   ]
  },
  {
   "cell_type": "markdown",
   "metadata": {},
   "source": [
    "Set blocks"
   ]
  },
  {
   "cell_type": "code",
   "execution_count": null,
   "metadata": {},
   "outputs": [],
   "source": [
    "# Set simple block\n",
    "grass = Block(name=\"grass_block\", location=Location(x=160, y=66, z=119))\n",
    "blocks = connection.set_blocks(grass)\n",
    "print(\"Status code:\", blocks[0])"
   ]
  },
  {
   "cell_type": "code",
   "execution_count": null,
   "metadata": {},
   "outputs": [],
   "source": [
    "# Set list of blocks\n",
    "stone = Block(name=\"stone\", location=Location(x=159, y=66, z=119))\n",
    "granite = Block(name=\"granite\", location=Location(x=158, y=66, z=119))\n",
    "\n",
    "blocks = connection.set_blocks([stone, granite])\n",
    "print(\"Status code:\", blocks[0])"
   ]
  },
  {
   "cell_type": "code",
   "execution_count": null,
   "metadata": {},
   "outputs": [],
   "source": [
    "# Set block with state and inventory\n",
    "enchantments = [Enchantment(name=\"sharpness\", level=111), Enchantment(name=\"unbreaking\", level=111)]\n",
    "diamond_sword = ItemStack(name=\"diamond_sword\", index=0, count=1, enchantments=enchantments)\n",
    "diamond_axe = ItemStack(name=\"diamond_axe\", index=1, count=1, enchantments=enchantments)\n",
    "\n",
    "chest = Block(\n",
    "    name=\"chest\",\n",
    "    location=Location(x=161, y=66, z=119),\n",
    "    state={\"facing\": \"north\"},\n",
    "    inventory=[diamond_sword, diamond_axe])\n",
    "\n",
    "blocks = connection.set_blocks(chest)\n",
    "print(\"Status code:\", blocks[0])"
   ]
  },
  {
   "cell_type": "markdown",
   "metadata": {},
   "source": [
    "Get blocks"
   ]
  },
  {
   "cell_type": "code",
   "execution_count": null,
   "metadata": {},
   "outputs": [],
   "source": [
    "# Get block\n",
    "blocks = connection.get_blocks(grass.location)\n",
    "print(\"Status code:\", blocks[0])\n",
    "[asdict(block) for block in blocks[1]]"
   ]
  },
  {
   "cell_type": "code",
   "execution_count": null,
   "metadata": {},
   "outputs": [],
   "source": [
    "# Get list of blocks\n",
    "blocks = connection.get_blocks([stone.location, granite.location])\n",
    "print(\"Status code:\", blocks[0])\n",
    "[asdict(block) for block in blocks[1]]"
   ]
  },
  {
   "cell_type": "code",
   "execution_count": null,
   "metadata": {},
   "outputs": [],
   "source": [
    "# Get block with state and inventory\n",
    "blocks = connection.get_blocks(chest.location)\n",
    "print(\"Status code:\", blocks[0])\n",
    "[asdict(block) for block in blocks[1]]"
   ]
  },
  {
   "cell_type": "markdown",
   "metadata": {},
   "source": [
    "Get players"
   ]
  },
  {
   "cell_type": "code",
   "execution_count": null,
   "metadata": {},
   "outputs": [],
   "source": [
    "players = connection.get_players()\n",
    "print(\"Status code:\", players[0])\n",
    "[asdict(player) for player in players[1]]"
   ]
  }
 ],
 "metadata": {
  "kernelspec": {
   "display_name": "ML",
   "language": "python",
   "name": "python3"
  },
  "language_info": {
   "codemirror_mode": {
    "name": "ipython",
    "version": 3
   },
   "file_extension": ".py",
   "mimetype": "text/x-python",
   "name": "python",
   "nbconvert_exporter": "python",
   "pygments_lexer": "ipython3",
   "version": "3.11.9"
  }
 },
 "nbformat": 4,
 "nbformat_minor": 2
}
