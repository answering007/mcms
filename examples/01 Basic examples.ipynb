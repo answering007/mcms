{
 "cells": [
  {
   "cell_type": "code",
   "execution_count": null,
   "metadata": {},
   "outputs": [],
   "source": [
    "# Import section\n",
    "from mcms.commands import StringCommand\n",
    "from mcms.connection import Connection"
   ]
  },
  {
   "cell_type": "code",
   "execution_count": null,
   "metadata": {},
   "outputs": [],
   "source": [
    "# Setup connection\n",
    "connection = Connection(\"localhost\", 8000, (\"Admin\", \"123\"))"
   ]
  },
  {
   "cell_type": "code",
   "execution_count": null,
   "metadata": {},
   "outputs": [],
   "source": [
    "# Say Hello World to server\n",
    "response = connection.execute_commands(\"say hello world!\")\n",
    "print(\"Response code: \", response[0], \"Command result: \", response[1])"
   ]
  },
  {
   "cell_type": "code",
   "execution_count": null,
   "metadata": {},
   "outputs": [],
   "source": [
    "# Different ways of sending commands:\n",
    "player_name = \"Papa\"\n",
    "\n",
    "# Send single command\n",
    "print(connection.execute_commands(\"say command one\"))\n",
    "print(connection.execute_commands(StringCommand(\"say command two\")))\n",
    "print(connection.execute_commands((\"say command three\", player_name)))\n",
    "print(connection.execute_commands((StringCommand(\"say command four\"), player_name)))\n",
    "\n",
    "# Send multiple commands\n",
    "print(connection.execute_commands([\n",
    "    \"say command five\",\n",
    "    StringCommand(\"say command six\"),\n",
    "    (\"say command seven\", player_name),\n",
    "    (StringCommand(\"say command eight\"), player_name)\n",
    "    ]))"
   ]
  }
 ],
 "metadata": {
  "kernelspec": {
   "display_name": "ML",
   "language": "python",
   "name": "python3"
  },
  "language_info": {
   "codemirror_mode": {
    "name": "ipython",
    "version": 3
   },
   "file_extension": ".py",
   "mimetype": "text/x-python",
   "name": "python",
   "nbconvert_exporter": "python",
   "pygments_lexer": "ipython3",
   "version": "3.11.9"
  }
 },
 "nbformat": 4,
 "nbformat_minor": 2
}
