{
 "cells": [
  {
   "cell_type": "code",
   "execution_count": 1,
   "metadata": {},
   "outputs": [],
   "source": [
    "# Import section\n",
    "from mcms.commands import ClearCommand, GiveCommand, SetBlockCommand, StringCommand, SummonCommand\n",
    "from mcms.connection import Connection\n",
    "from mcms.data import Location\n",
    "from mcms.enums import Coordinate"
   ]
  },
  {
   "cell_type": "code",
   "execution_count": 2,
   "metadata": {},
   "outputs": [],
   "source": [
    "# Setup connection\n",
    "connection = Connection(\"localhost\", 8000, (\"Admin\", \"123\"))"
   ]
  },
  {
   "cell_type": "markdown",
   "metadata": {},
   "source": [
    "Сверлим дырку"
   ]
  },
  {
   "cell_type": "code",
   "execution_count": 46,
   "metadata": {},
   "outputs": [
    {
     "data": {
      "text/plain": [
       "200"
      ]
     },
     "execution_count": 46,
     "metadata": {},
     "output_type": "execute_result"
    }
   ],
   "source": [
    "initial = Location(world=\"world\", x=170, y=70, z=130)\n",
    "x_len = 10\n",
    "y_len = 68\n",
    "z_len = 10\n",
    "commands = []\n",
    "for x in range(x_len):\n",
    "    for y in range(y_len):\n",
    "        for z in range(z_len):\n",
    "            command = SetBlockCommand(x=initial.x + x, y=initial.y - y, z=initial.z + z, coordinate=Coordinate.ABSOLUTE, block_name=\"minecraft:air\")\n",
    "            commands.append((command, None))\n",
    "\n",
    "result = connection.execute_commands(commands_data=commands)\n",
    "result[0]"
   ]
  },
  {
   "cell_type": "code",
   "execution_count": 7,
   "metadata": {},
   "outputs": [
    {
     "data": {
      "text/plain": [
       "(200, [True])"
      ]
     },
     "execution_count": 7,
     "metadata": {},
     "output_type": "execute_result"
    }
   ],
   "source": [
    "command = SummonCommand(entity_name=\"minecraft:wither\")\n",
    "result = connection.execute_commands(command=command)\n",
    "result"
   ]
  },
  {
   "cell_type": "code",
   "execution_count": 4,
   "metadata": {},
   "outputs": [
    {
     "data": {
      "text/plain": [
       "200"
      ]
     },
     "execution_count": 4,
     "metadata": {},
     "output_type": "execute_result"
    }
   ],
   "source": [
    "player_name=\"Papa\"\n",
    "# player_name=\"frefre\"\n",
    "# player_name=\"Ares_XI\"\n",
    "command1 = GiveCommand(player_name=player_name, item_name=\"minecraft:netherite_sword\", amount=1, tags={\"Enchantments\": [{\"id\": \"sharpness\", \"lvl\": 999}, {\"id\": \"unbreaking\", \"lvl\": 999}]})\n",
    "command2 = GiveCommand(player_name=player_name, item_name=\"minecraft:netherite_shovel\", amount=1, tags={\"Enchantments\": [{\"id\": \"efficiency\", \"lvl\": 999}, {\"id\": \"unbreaking\", \"lvl\": 999}]})\n",
    "command3 = GiveCommand(player_name=player_name, item_name=\"minecraft:netherite_pickaxe\", amount=1, tags={\"Enchantments\": [{\"id\": \"efficiency\", \"lvl\": 999}, {\"id\": \"unbreaking\", \"lvl\": 999}]})\n",
    "command4 = GiveCommand(player_name=player_name, item_name=\"minecraft:netherite_axe\", amount=1, tags={\"Enchantments\": [{\"id\": \"efficiency\", \"lvl\": 999}, {\"id\": \"sharpness\", \"lvl\": 999}, {\"id\": \"unbreaking\", \"lvl\": 999}]})\n",
    "command5 = GiveCommand(player_name=player_name, item_name=\"minecraft:netherite_hoe\", amount=1, tags={\"Enchantments\": [{\"id\": \"sharpness\", \"lvl\": 999}, {\"id\": \"unbreaking\", \"lvl\": 999}]})\n",
    "command6 = GiveCommand(player_name=player_name, item_name=\"minecraft:netherite_helmet\", amount=1, tags={\"Enchantments\": [{\"id\": \"protection\", \"lvl\": 999}]})\n",
    "command7 = GiveCommand(player_name=player_name, item_name=\"minecraft:netherite_chestplate\", amount=1, tags={\"Enchantments\": [{\"id\": \"protection\", \"lvl\": 999}]})\n",
    "command8 = GiveCommand(player_name=player_name, item_name=\"minecraft:netherite_leggings\", amount=1, tags={\"Enchantments\": [{\"id\": \"protection\", \"lvl\": 999}]})\n",
    "command9 = GiveCommand(player_name=player_name, item_name=\"minecraft:netherite_boots\", amount=1, tags={\"Enchantments\": [{\"id\": \"protection\", \"lvl\": 999}]})\n",
    "command10 = GiveCommand(player_name=player_name, item_name=\"minecraft:crossbow\", amount=1)\n",
    "command11 = GiveCommand(player_name=player_name, item_name='minecraft:tipped_arrow{Potion:\"minecraft:strong_harming\"}', amount=64)\n",
    "command12 = GiveCommand(player_name=player_name, item_name=\"minecraft:cooked_beef\", amount=64)\n",
    "command13 = GiveCommand(player_name=player_name, item_name='minecraft:torch', amount=64)\n",
    "commands = [(cm, None) for cm in [command1, command2, command3, command4, command5, command6, command7, command8, command9, command10, command11, command12, command13]]\n",
    "result = connection.execute_commands(commands)\n",
    "result[0]"
   ]
  },
  {
   "cell_type": "code",
   "execution_count": 3,
   "metadata": {},
   "outputs": [
    {
     "name": "stdout",
     "output_type": "stream",
     "text": [
      "Command text: clear Papa\n",
      "Response code: 200, command result: True\n"
     ]
    }
   ],
   "source": [
    "# Clear player inventory\n",
    "command = ClearCommand(player_name=\"Papa\")\n",
    "# command = ClearCommand(player_name=\"frefre\")\n",
    "# command = ClearCommand(player_name=\"Ares_XI\")\n",
    "result = connection.execute_commands(command)\n",
    "print(f\"Command text: {command.get_command_text()}\")\n",
    "print(f\"Response code: {result[0]}, command result: {result[1][0]}\")"
   ]
  },
  {
   "cell_type": "code",
   "execution_count": 19,
   "metadata": {},
   "outputs": [
    {
     "data": {
      "text/plain": [
       "(200, [True])"
      ]
     },
     "execution_count": 19,
     "metadata": {},
     "output_type": "execute_result"
    }
   ],
   "source": [
    "player_name = \"Papa\"\n",
    "# commands = [(cm, None) for cm in [GiveCommand(player_name=player_name, item_name='minecraft:grass_block', amount=64)]]\n",
    "# commands = [(cm, None) for cm in [GiveCommand(player_name=player_name, item_name='minecraft:torch', amount=64)]]\n",
    "# commands = [(cm, None) for cm in [GiveCommand(player_name=player_name, item_name='minecraft:shears', amount=1, tags={\"Enchantments\": [{\"id\": \"efficiency\", \"lvl\": 999}, {\"id\": \"unbreaking\", \"lvl\": 999}]})]]\n",
    "# commands = [(cm, None) for cm in [GiveCommand(player_name=player_name, item_name='minecraft:composter', amount=1)]]\n",
    "commands = [(cm, None) for cm in [GiveCommand(player_name=player_name, item_name='minecraft:sand', amount=1)]]\n",
    "result = connection.execute_commands(commands)\n",
    "result"
   ]
  },
  {
   "cell_type": "code",
   "execution_count": 6,
   "metadata": {},
   "outputs": [
    {
     "data": {
      "text/plain": [
       "(200, [True])"
      ]
     },
     "execution_count": 6,
     "metadata": {},
     "output_type": "execute_result"
    }
   ],
   "source": [
    "player_name = \"frefre\"\n",
    "# commands = [(cm, None) for cm in [GiveCommand(player_name=player_name, item_name='minecraft:cooked_beef', amount=64)]]\n",
    "commands = [(cm, None) for cm in [GiveCommand(player_name=player_name, item_name='minecraft:packed_ice', amount=64*7)]]\n",
    "# commands = [(cm, None) for cm in [GiveCommand(player_name=player_name, item_name='minecraft:tnt', amount=64*10)]]\n",
    "# commands = [(cm, None) for cm in [GiveCommand(player_name=player_name, item_name='minecraft:flint_and_steel', amount=2)]]\n",
    "# commands = [(cm, None) for cm in [GiveCommand(player_name=player_name, item_name='minecraft:grass_block', amount=64*4)]]\n",
    "# commands = [(cm, None) for cm in [GiveCommand(player_name=player_name, item_name='minecraft:elytra', amount=10)]]\n",
    "# commands = [(cm, None) for cm in [GiveCommand(player_name=player_name, item_name='minecraft:firework_rocket', amount=64*5)]]\n",
    "# commands = [(cm, None) for cm in [GiveCommand(player_name=player_name, item_name='minecraft:elytra', amount=2)]]\n",
    "result = connection.execute_commands(commands)\n",
    "result"
   ]
  },
  {
   "cell_type": "code",
   "execution_count": 38,
   "metadata": {},
   "outputs": [
    {
     "data": {
      "text/plain": [
       "(200, [True])"
      ]
     },
     "execution_count": 38,
     "metadata": {},
     "output_type": "execute_result"
    }
   ],
   "source": [
    "player_name = \"Ares_XI\"\n",
    "# commands = [(cm, None) for cm in [GiveCommand(player_name=player_name, item_name='minecraft:milk_bucket', amount=3)]]\n",
    "# commands = [(cm, None) for cm in [GiveCommand(player_name=player_name, item_name='minecraft:iron_block', amount=64)]]\n",
    "# commands = [(cm, None) for cm in [GiveCommand(player_name=player_name, item_name='minecraft:redstone', amount=64)]]\n",
    "# commands = [(cm, None) for cm in [GiveCommand(player_name=player_name, item_name='minecraft:repeater', amount=64)]]\n",
    "# commands = [(cm, None) for cm in [GiveCommand(player_name=player_name, item_name='minecraft:dispenser', amount=64)]]\n",
    "# commands = [(cm, None) for cm in [GiveCommand(player_name=player_name, item_name='minecraft:sticky_piston', amount=64)]]\n",
    "# commands = [(cm, None) for cm in [GiveCommand(player_name=player_name, item_name='minecraft:slime_block', amount=64)]]\n",
    "# commands = [(cm, None) for cm in [GiveCommand(player_name=player_name, item_name='minecraft:fire_charge', amount=64*8)]]\n",
    "commands = [(cm, None) for cm in [GiveCommand(player_name=player_name, item_name='minecraft:fire_charge', amount=64*8)]]\n",
    "# commands = [(cm, None) for cm in [GiveCommand(player_name=player_name, item_name='minecraft:redstone_torch', amount=1)]]\n",
    "# commands = [(cm, None) for cm in [GiveCommand(player_name=player_name, item_name='minecraft:grass_block', amount=64)]]\n",
    "# commands = [(cm, None) for cm in [GiveCommand(player_name=player_name, item_name='minecraft:obsidian', amount=64)]]\n",
    "result = connection.execute_commands(commands)\n",
    "result"
   ]
  },
  {
   "cell_type": "code",
   "execution_count": 43,
   "metadata": {},
   "outputs": [
    {
     "data": {
      "text/plain": [
       "(200, [True])"
      ]
     },
     "execution_count": 43,
     "metadata": {},
     "output_type": "execute_result"
    }
   ],
   "source": [
    "player_name = \"Ares_XI\"\n",
    "commands = [(cm, None) for cm in [StringCommand(\"tp Ares_XI 155 70 120\")]]\n",
    "result = connection.execute_commands(commands)\n",
    "result"
   ]
  },
  {
   "cell_type": "code",
   "execution_count": 12,
   "metadata": {},
   "outputs": [
    {
     "data": {
      "text/plain": [
       "(200, [True])"
      ]
     },
     "execution_count": 12,
     "metadata": {},
     "output_type": "execute_result"
    }
   ],
   "source": [
    "player_name = \"Papa\"\n",
    "# player_name = \"frefre\"\n",
    "# player_name = \"Ares_XI\"\n",
    "# commands = [(cm, None) for cm in [StringCommand(\"tp \" + player_name + \" 168 69 120\")]]\n",
    "# commands = [(cm, None) for cm in [StringCommand(\"tp \" + player_name + \" 268 64 16\")]]\n",
    "# commands = [(cm, None) for cm in [StringCommand(\"tp \" + player_name + \" 286 44 6\")]]\n",
    "# commands = [(cm, None) for cm in [StringCommand(\"tp \" + player_name + \" -152 39 -302\")]]    #Шахта\n",
    "commands = [(cm, None) for cm in [StringCommand(\"tp \" + player_name + \" -137 31 -358\")]]    #Спавнер\n",
    "commands = [(cm, None) for cm in [StringCommand(\"tp \" + player_name + \" -172 32 -376\")]]    #Спавнер\n",
    "commands = [(cm, None) for cm in [StringCommand(\"tp \" + player_name + \" -105 15 -366\")]]    #Спавнер\n",
    "result = connection.execute_commands(commands)\n",
    "result"
   ]
  }
 ],
 "metadata": {
  "kernelspec": {
   "display_name": "ML",
   "language": "python",
   "name": "python3"
  },
  "language_info": {
   "codemirror_mode": {
    "name": "ipython",
    "version": 3
   },
   "file_extension": ".py",
   "mimetype": "text/x-python",
   "name": "python",
   "nbconvert_exporter": "python",
   "pygments_lexer": "ipython3",
   "version": "3.11.9"
  }
 },
 "nbformat": 4,
 "nbformat_minor": 2
}
