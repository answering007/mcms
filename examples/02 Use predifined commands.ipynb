{
 "cells": [
  {
   "cell_type": "code",
   "execution_count": null,
   "metadata": {},
   "outputs": [],
   "source": [
    "# Import section\n",
    "from mcms.commands import ClearCommand, FillCommand, GiveCommand, SetBlockCommand, SummonCommand\n",
    "from mcms.connection import Connection\n",
    "from mcms.enums import Coordinate"
   ]
  },
  {
   "cell_type": "code",
   "execution_count": null,
   "metadata": {},
   "outputs": [],
   "source": [
    "# Setup connection\n",
    "connection = Connection(\"localhost\", 8000, (\"Admin\", \"123\"))\n",
    "player_name = \"Papa\""
   ]
  },
  {
   "cell_type": "code",
   "execution_count": null,
   "metadata": {},
   "outputs": [],
   "source": [
    "# Clear player inventory\n",
    "command = ClearCommand(player_name=player_name)\n",
    "result = connection.execute_commands(command)\n",
    "print(f\"Command text: {command.get_command_text()}\")\n",
    "print(f\"Command result: {result}\")"
   ]
  },
  {
   "cell_type": "code",
   "execution_count": null,
   "metadata": {},
   "outputs": [],
   "source": [
    "# Give a player diamond sword\n",
    "command = GiveCommand(player_name=player_name, item_name=\"diamond_sword\")\n",
    "result = connection.execute_commands(command)\n",
    "print(f\"Command text: {command.get_command_text()}\")\n",
    "print(f\"Command result: {result}\")"
   ]
  },
  {
   "cell_type": "code",
   "execution_count": null,
   "metadata": {},
   "outputs": [],
   "source": [
    "# Give a player netherite sword with NBT-data\n",
    "nbt = {\"Enchantments\":[{\"id\":\"minecraft:sharpness\",\"lvl\":5}]}\n",
    "command = GiveCommand(player_name=player_name, item_name=\"netherite_sword\", tags=nbt)\n",
    "result = connection.execute_commands(command)\n",
    "print(f\"Command text: {command.get_command_text()}\")\n",
    "print(f\"Command result: {result}\")"
   ]
  },
  {
   "cell_type": "code",
   "execution_count": null,
   "metadata": {},
   "outputs": [],
   "source": [
    "# Teleport player\n",
    "result = connection.execute_commands(f\"teleport {player_name} {159} {66} {117}\")\n",
    "print(f\"Command result: {result}\")"
   ]
  },
  {
   "cell_type": "code",
   "execution_count": null,
   "metadata": {},
   "outputs": [],
   "source": [
    "# Set simple blocks\n",
    "result = connection.execute_commands([\n",
    "    (SetBlockCommand(x=1, y=0, z=1, coordinate=Coordinate.RELATIVE, block_name=\"minecraft:stone\"), player_name),\n",
    "    (SetBlockCommand(x=1, y=1, z=1, coordinate=Coordinate.RELATIVE, block_name=\"minecraft:grass\"), player_name)])\n",
    "print(f\"Command result: {result}\")"
   ]
  },
  {
   "cell_type": "code",
   "execution_count": null,
   "metadata": {},
   "outputs": [],
   "source": [
    "# Set block with state and NBT-data\n",
    "state = {\"facing\": \"west\"}\n",
    "nbt = {\"Items\":[{\"id\":\"netherite_sword\", \"Count\":1, \"Slot\":0, \"tag\":{\"Enchantments\":[{\"id\":\"sharpness\",\"lvl\":999},\n",
    "                                                                                     {\"id\":\"unbreaking\",\"lvl\":999}]}}]}\n",
    "command = SetBlockCommand(x=2, y=0, z=2, coordinate=Coordinate.RELATIVE, block_name=\"minecraft:chest\",\n",
    "                          state=state, tags=nbt)\n",
    "result = connection.execute_commands((command, player_name))\n",
    "print(f\"Command text: {command.get_command_text()}\")\n",
    "print(f\"Command result: {result}\")"
   ]
  },
  {
   "cell_type": "code",
   "execution_count": null,
   "metadata": {},
   "outputs": [],
   "source": [
    "# Fill blocks\n",
    "command = FillCommand(x1=3, y1=3, z1=3, x2=5, y2=5, z2=5, coordinate=Coordinate.RELATIVE, block_name=\"minecraft:stone\")\n",
    "result = connection.execute_commands((command, player_name))\n",
    "print(f\"Command text: {command.get_command_text()}\")\n",
    "print(f\"Command result: {result}\")"
   ]
  },
  {
   "cell_type": "code",
   "execution_count": null,
   "metadata": {},
   "outputs": [],
   "source": [
    "# Spawn cat\n",
    "command = SummonCommand(entity_name=\"cat\", x=-1, y=0, z=-1, coordinate=Coordinate.RELATIVE)\n",
    "result = connection.execute_commands((command, player_name))\n",
    "print(f\"Command text: {command.get_command_text()}\")\n",
    "print(f\"Command result: {result}\")"
   ]
  }
 ],
 "metadata": {
  "kernelspec": {
   "display_name": "ML",
   "language": "python",
   "name": "python3"
  },
  "language_info": {
   "codemirror_mode": {
    "name": "ipython",
    "version": 3
   },
   "file_extension": ".py",
   "mimetype": "text/x-python",
   "name": "python",
   "nbconvert_exporter": "python",
   "pygments_lexer": "ipython3",
   "version": "3.11.9"
  }
 },
 "nbformat": 4,
 "nbformat_minor": 2
}
