{
 "cells": [
  {
   "cell_type": "markdown",
   "metadata": {},
   "source": [
    "This is an example of [Litematica](https://litematica.org/) files reading and using via mcms project\n",
    "\n",
    "Files can be found here: [https://abfielder.com/browseSchematics](https://abfielder.com/browseSchematics)"
   ]
  },
  {
   "cell_type": "code",
   "execution_count": null,
   "metadata": {},
   "outputs": [],
   "source": [
    "# If you have not installed the required packages yet\n",
    "%pip install tqdm\n",
    "%pip install litemapy"
   ]
  },
  {
   "cell_type": "code",
   "execution_count": null,
   "metadata": {},
   "outputs": [],
   "source": [
    "# Import section\n",
    "from typing import Any, List, Optional\n",
    "\n",
    "import tqdm\n",
    "from litemapy import BlockState, Region, Schematic\n",
    "\n",
    "from mcms.connection import Connection\n",
    "from mcms.data import Block, Location"
   ]
  },
  {
   "cell_type": "code",
   "execution_count": null,
   "metadata": {},
   "outputs": [],
   "source": [
    "# Setup connection\n",
    "connection = Connection(\"localhost\", 8000, (\"Admin\", \"123\"))"
   ]
  },
  {
   "cell_type": "code",
   "execution_count": null,
   "metadata": {},
   "outputs": [],
   "source": [
    "# Patch to fix issue with rotation (litemapy -> minecraft.py -> Entity -> __init__)\n",
    "\n",
    "# self._rotation = (rotation[0], rotation[1], rotation[2]) -> instead of this\n",
    "\n",
    "# Use this:\n",
    "# if len(rotation) == 3:\n",
    "#     self._rotation = (rotation[0], rotation[2], rotation[1])\n",
    "# elif len(rotation) == 2:\n",
    "#     self._rotation = (rotation[0], rotation[1], 0)\n",
    "# elif len(rotation) == 1:\n",
    "#     self._rotation = (rotation[0], 0, 0)\n",
    "# else:\n",
    "#     self._rotation = (0, 0, 0)"
   ]
  },
  {
   "cell_type": "code",
   "execution_count": null,
   "metadata": {},
   "outputs": [],
   "source": [
    "def modify_start_location(location: Location, region: Region) -> Location:\n",
    "    return Location(x=location.x - region.min_x()-1, y=location.y - region.min_y()-1, z=location.z - region.min_z()-1)"
   ]
  },
  {
   "cell_type": "code",
   "execution_count": null,
   "metadata": {},
   "outputs": [],
   "source": [
    "def to_block(block_state: BlockState, location: Location) -> Block:\n",
    "    namespace, name = block_state.id.split(\":\")\n",
    "    state = {}\n",
    "    nbt = block_state.to_nbt()\n",
    "    if \"Properties\" in nbt:\n",
    "        for k, v in nbt[\"Properties\"].items():\n",
    "            state[str(k)] = str(v)\n",
    "    return Block(namespace=namespace, name=name, location=location, state=state)"
   ]
  },
  {
   "cell_type": "code",
   "execution_count": null,
   "metadata": {},
   "outputs": [],
   "source": [
    "def create_blocks(region: Region, start: Location, default_block_name: Optional[str] = None) -> List[Block]:\n",
    "    start_location = modify_start_location(start, region)\n",
    "    blocks = []\n",
    "    for x in region.xrange():\n",
    "        for y in region.yrange():\n",
    "            for z in region.zrange():\n",
    "                block_state = region[x, y, z]\n",
    "\n",
    "                if block_state.id == \"minecraft:air\":\n",
    "                    continue\n",
    "\n",
    "                location = Location(x=x + start_location.x, y=y + start_location.y, z=z + start_location.z)\n",
    "\n",
    "                if default_block_name is not None:\n",
    "                    block = Block(name=default_block_name, location=location)\n",
    "                else:\n",
    "                    block = to_block(block_state, location)\n",
    "\n",
    "                blocks.append(block)\n",
    "    return blocks"
   ]
  },
  {
   "cell_type": "code",
   "execution_count": null,
   "metadata": {},
   "outputs": [],
   "source": [
    "def fill(block: Block, x_length: int = 1, y_length: int = 1, z_length: int = 1) -> List[Block]:\n",
    "    blocks = []\n",
    "    for x in range(0, x_length):\n",
    "        for y in range(0, y_length):\n",
    "            for z in range(0, z_length):\n",
    "                blocks.append(Block(\n",
    "                    namespace=block.namespace,\n",
    "                    name=block.name,\n",
    "                    location=Location(x=block.location.x + x, y=block.location.y + y, z=block.location.z + z),\n",
    "                    state=block.state,\n",
    "                    inventory=block.inventory))\n",
    "    return blocks"
   ]
  },
  {
   "cell_type": "code",
   "execution_count": null,
   "metadata": {},
   "outputs": [],
   "source": [
    "def clear_space_near_to_player(\n",
    "        connection: Connection,\n",
    "        player_name: str,\n",
    "        x_length: int = 1,\n",
    "        y_length: int = 1,\n",
    "        z_length: int = 1,\n",
    "        timeout: int = 100) -> int:\n",
    "\n",
    "    # Get the start location\n",
    "    players = connection.get_players(only_online=True)\n",
    "    players = {p.name: p for p in players[1]}\n",
    "    start_location = players[player_name].location\n",
    "\n",
    "    start_block = Block(name=\"air\", location=Location(x=int(start_location.x), y=int(start_location.y), z=int(start_location.z)))\n",
    "    blocks = fill(start_block, x_length, y_length, z_length)\n",
    "\n",
    "    result = connection.set_blocks(blocks, timeout=timeout)\n",
    "    return result[0]"
   ]
  },
  {
   "cell_type": "code",
   "execution_count": null,
   "metadata": {},
   "outputs": [],
   "source": [
    "def split_list(my_list: List[Any], sublist_size: int) -> List[List[Any]]:\n",
    "    return [my_list[i:i+sublist_size] for i in range(0, len(my_list), sublist_size)]"
   ]
  },
  {
   "cell_type": "code",
   "execution_count": null,
   "metadata": {},
   "outputs": [],
   "source": [
    "def build_region(connection: Connection, region: Region, start: Location, split_size: int = 10000, timeout: int = 300) -> int:\n",
    "    print(\"Create blocks...\")\n",
    "    blocks = create_blocks(region, start)\n",
    "    print(\"Number of blocks:\", len(blocks))\n",
    "    blocks_set = split_list(blocks, split_size)\n",
    "    print(\"Start building...\")\n",
    "    for b in tqdm.tqdm(blocks_set, ncols=100):\n",
    "        result = connection.set_blocks(b, timeout=timeout)\n",
    "    return result[0]"
   ]
  },
  {
   "cell_type": "code",
   "execution_count": null,
   "metadata": {},
   "outputs": [],
   "source": [
    "def clear_region(connection: Connection, region: Region, start: Location, split_size: int = 10000, timeout: int = 300) -> int:\n",
    "    print(\"Create blocks...\")\n",
    "    blocks = create_blocks(region, start, default_block_name=\"air\")\n",
    "    blocks_set = split_list(blocks, split_size)\n",
    "    print(\"Start cleaning...\")\n",
    "    for b in tqdm.tqdm(blocks_set, ncols=100):\n",
    "        result = connection.set_blocks(b, timeout=timeout)\n",
    "    return result[0]"
   ]
  },
  {
   "cell_type": "code",
   "execution_count": null,
   "metadata": {},
   "outputs": [],
   "source": [
    "# Load the schematic and get its first region\n",
    "schema = Schematic.load(r\"Path to your file.litematic\")\n",
    "\n",
    "region = next(iter(schema.regions.values()))\n",
    "print(\"Number of blocks:\", region.count_blocks())\n",
    "print(\"Start x coordinate:\", region.min_x())\n",
    "print(\"Start y coordinate:\", region.min_y())\n",
    "print(\"Start z coordinate:\", region.min_z())"
   ]
  },
  {
   "cell_type": "code",
   "execution_count": null,
   "metadata": {},
   "outputs": [],
   "source": [
    "# Start coordinates\n",
    "start = Location(x=-210, y=72, z=-565)\n",
    "# Build the region\n",
    "build_region(connection, region, start)"
   ]
  },
  {
   "cell_type": "code",
   "execution_count": null,
   "metadata": {},
   "outputs": [],
   "source": [
    "# Clear region\n",
    "clear_region(connection, region, start)"
   ]
  }
 ],
 "metadata": {
  "kernelspec": {
   "display_name": "ML",
   "language": "python",
   "name": "python3"
  },
  "language_info": {
   "codemirror_mode": {
    "name": "ipython",
    "version": 3
   },
   "file_extension": ".py",
   "mimetype": "text/x-python",
   "name": "python",
   "nbconvert_exporter": "python",
   "pygments_lexer": "ipython3",
   "version": "3.11.9"
  }
 },
 "nbformat": 4,
 "nbformat_minor": 2
}
